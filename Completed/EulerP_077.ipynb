{
 "cells": [
  {
   "cell_type": "markdown",
   "metadata": {},
   "source": [
    "# #77 - Prime summations\n",
    "\n",
    "It is possible to write ten as the sum of primes in exactly five different ways:\n",
    "\n",
    "7 + 3\n",
    "\n",
    "5 + 5\n",
    "\n",
    "5 + 3 + 2\n",
    "\n",
    "3 + 3 + 2 + 2\n",
    "\n",
    "2 + 2 + 2 + 2 + 2\n",
    "\n",
    "What is the first value which can be written as the sum of primes in over five thousand different ways?"
   ]
  },
  {
   "cell_type": "code",
   "execution_count": 19,
   "metadata": {
    "scrolled": false
   },
   "outputs": [
    {
     "name": "stdout",
     "output_type": "stream",
     "text": [
      "71 5007\n"
     ]
    }
   ],
   "source": [
    "import import_ipynb\n",
    "from helperFunctions import SieveOfEratosthenes\n",
    "\n",
    "max_val = 100\n",
    "primes = SieveOfEratosthenes(100)\n",
    "\n",
    "ways = [1] + [0]*max_val\n",
    "\n",
    "for p in primes:\n",
    "    for i in range(p, max_val+1):\n",
    "        ways[i] += ways[i-p]\n",
    "        \n",
    "        if ways[i] >= 5000:\n",
    "            break\n",
    "        \n",
    "for val in ways:\n",
    "    if val >= 5000:\n",
    "        print ways.index(val), val\n",
    "        break"
   ]
  },
  {
   "cell_type": "code",
   "execution_count": null,
   "metadata": {
    "collapsed": true
   },
   "outputs": [],
   "source": []
  }
 ],
 "metadata": {
  "kernelspec": {
   "display_name": "Python 2",
   "language": "python",
   "name": "python2"
  },
  "language_info": {
   "codemirror_mode": {
    "name": "ipython",
    "version": 2
   },
   "file_extension": ".py",
   "mimetype": "text/x-python",
   "name": "python",
   "nbconvert_exporter": "python",
   "pygments_lexer": "ipython2",
   "version": "2.7.10"
  }
 },
 "nbformat": 4,
 "nbformat_minor": 2
}
