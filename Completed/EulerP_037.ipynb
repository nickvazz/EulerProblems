{
 "cells": [
  {
   "cell_type": "markdown",
   "metadata": {},
   "source": [
    "# #37 - Truncatable primes\n",
    "\n",
    "The number 3797 has an interesting property. Being prime itself, it is possible to continuously remove digits from left to right, and remain prime at each stage: 3797, 797, 97, and 7. Similarly we can work from right to left: 3797, 379, 37, and 3.\n",
    "\n",
    "Find the sum of the only eleven primes that are both truncatable from left to right and right to left.\n",
    "\n",
    "NOTE: 2, 3, 5, and 7 are not considered to be truncatable primes."
   ]
  },
  {
   "cell_type": "code",
   "execution_count": 3,
   "metadata": {
    "scrolled": false
   },
   "outputs": [
    {
     "name": "stdout",
     "output_type": "stream",
     "text": [
      "[ 2  3  5  7 11 13 17 19 23 29 31 37 41 43 47 53 59 61 67 71 73 79 83 89 97]\n",
      "[23, 37, 53, 73, 313, 317, 373, 797, 3137, 3797, 739397]\n",
      "748317\n"
     ]
    }
   ],
   "source": [
    "from helperFunctions import SieveOfEratosthenes\n",
    "import numpy as np\n",
    "from numba import jit\n",
    "\n",
    "primes = np.array(SieveOfEratosthenes(10**6))\n",
    "prime_str = np.array([np.array(list(str(p))) for p in primes])\n",
    "\n",
    "left = np.zeros(len(primes))\n",
    "right = np.zeros(len(primes))\n",
    "\n",
    "ps = primes[:25]\n",
    "\n",
    "print ps\n",
    "\n",
    "\n",
    "\n",
    "def left(num):\n",
    "    L_nums = [int(str(num)[i:]) for i in range(len(str(num)))]\n",
    "    case = [x in primes for x in L_nums]\n",
    "    return all(case)\n",
    "\n",
    "  \n",
    "def right(num):\n",
    "    R_nums = [int(str(num)[:i+1]) for i in range(len(str(num)))]\n",
    "    case = [x in primes for x in R_nums]\n",
    "    return all(case)\n",
    "\n",
    "\n",
    "    \n",
    "trunc_primes = []\n",
    "\n",
    "\n",
    "for num in primes[4:]:\n",
    "    if left(num):\n",
    "        if right(num):\n",
    "            trunc_primes.append(num)\n",
    "            \n",
    "    if len(trunc_primes) >= 11:\n",
    "        break\n",
    "        \n",
    "print trunc_primes\n",
    "print sum(trunc_primes)"
   ]
  },
  {
   "cell_type": "code",
   "execution_count": null,
   "metadata": {
    "collapsed": true
   },
   "outputs": [],
   "source": []
  }
 ],
 "metadata": {
  "kernelspec": {
   "display_name": "Python 2",
   "language": "python",
   "name": "python2"
  },
  "language_info": {
   "codemirror_mode": {
    "name": "ipython",
    "version": 2
   },
   "file_extension": ".py",
   "mimetype": "text/x-python",
   "name": "python",
   "nbconvert_exporter": "python",
   "pygments_lexer": "ipython2",
   "version": "2.7.10"
  }
 },
 "nbformat": 4,
 "nbformat_minor": 2
}
