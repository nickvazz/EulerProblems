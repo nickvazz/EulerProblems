{
 "cells": [
  {
   "cell_type": "markdown",
   "metadata": {},
   "source": [
    "# #4 - Largest palindrome product\n",
    "\n",
    "A palindromic number reads the same both ways. The largest palindrome made from the product of two 2-digit numbers is 9009 = 91 × 99.\n",
    "\n",
    "Find the largest palindrome made from the product of two 3-digit numbers."
   ]
  },
  {
   "cell_type": "code",
   "execution_count": 1,
   "metadata": {},
   "outputs": [
    {
     "name": "stdout",
     "output_type": "stream",
     "text": [
      "906609\n"
     ]
    }
   ],
   "source": [
    "import numpy as np\n",
    "prods = np.flip(np.unique(np.asarray([[x*y for x in range(999)] for y in range(999)]).ravel()),axis=0)\n",
    "\n",
    "def check_palindrome(x):\n",
    "    truth = False\n",
    "    x = str(x)\n",
    "    l = len(x)\n",
    "    if l == 2:\n",
    "        if x[0] == x[1]:\n",
    "            return True\n",
    "        else:\n",
    "            return False\n",
    "    if l == 1:\n",
    "        return True\n",
    "\n",
    "    if x[0] == x[-1] and l > 2:\n",
    "        return check_palindrome(x[1:-1])\n",
    "\n",
    "for val in prods:\n",
    "    truth = check_palindrome(val)\n",
    "    if truth == True:\n",
    "        print val\n",
    "        break"
   ]
  },
  {
   "cell_type": "code",
   "execution_count": null,
   "metadata": {
    "collapsed": true
   },
   "outputs": [],
   "source": []
  }
 ],
 "metadata": {
  "kernelspec": {
   "display_name": "Python 2",
   "language": "python",
   "name": "python2"
  },
  "language_info": {
   "codemirror_mode": {
    "name": "ipython",
    "version": 2
   },
   "file_extension": ".py",
   "mimetype": "text/x-python",
   "name": "python",
   "nbconvert_exporter": "python",
   "pygments_lexer": "ipython2",
   "version": "2.7.10"
  }
 },
 "nbformat": 4,
 "nbformat_minor": 2
}
