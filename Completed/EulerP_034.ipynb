{
 "cells": [
  {
   "cell_type": "markdown",
   "metadata": {},
   "source": [
    "# #34 Digit factorials\n",
    "\n",
    "145 is a curious number, as 1! + 4! + 5! = 1 + 24 + 120 = 145.\n",
    "\n",
    "Find the sum of all numbers which are equal to the sum of the factorial of their digits.\n",
    "\n",
    "Note: as 1! = 1 and 2! = 2 are not sums they are not included."
   ]
  },
  {
   "cell_type": "code",
   "execution_count": 8,
   "metadata": {
    "scrolled": false
   },
   "outputs": [
    {
     "name": "stdout",
     "output_type": "stream",
     "text": [
      "40730\n"
     ]
    }
   ],
   "source": [
    "from numba import jit\n",
    "\n",
    "fact_cache = {}\n",
    "\n",
    "def factorial(n):\n",
    "    if n == 0:\n",
    "        return 1\n",
    "    if n in fact_cache:\n",
    "        return fact_cache[n]\n",
    "    val = reduce(lambda x, y: x*y, range(1,n+1))\n",
    "    fact_cache[n] = val\n",
    "    return val\n",
    "\n",
    "@jit\n",
    "def num_fac(n):\n",
    "    return sum(map(factorial, map(int,list(str(n)))))\n",
    "\n",
    "total = 0\n",
    "\n",
    "for n in range(3,5*10**4):\n",
    "    if n == num_fac(n):\n",
    "        total += n\n",
    "        \n",
    "print total\n",
    "# -3 for some reason?"
   ]
  },
  {
   "cell_type": "code",
   "execution_count": null,
   "metadata": {
    "collapsed": true
   },
   "outputs": [],
   "source": []
  }
 ],
 "metadata": {
  "kernelspec": {
   "display_name": "Python 2",
   "language": "python",
   "name": "python2"
  },
  "language_info": {
   "codemirror_mode": {
    "name": "ipython",
    "version": 2
   },
   "file_extension": ".py",
   "mimetype": "text/x-python",
   "name": "python",
   "nbconvert_exporter": "python",
   "pygments_lexer": "ipython2",
   "version": "2.7.10"
  }
 },
 "nbformat": 4,
 "nbformat_minor": 2
}
