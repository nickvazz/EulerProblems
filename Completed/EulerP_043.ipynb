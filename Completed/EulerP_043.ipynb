{
 "cells": [
  {
   "cell_type": "markdown",
   "metadata": {},
   "source": [
    "# #43 - Sub-string divisibility\n",
    "\n",
    "The number, 1406357289, is a 0 to 9 pandigital number because it is made up of each of the digits 0 to 9 in some order, but it also has a rather interesting sub-string divisibility property.\n",
    "\n",
    "Let $d_1$ be the 1st digit, $d_2$ be the 2nd digit, and so on. In this way, we note the following:\n",
    "\n",
    "$d_2d_3d_4=406$ is divisible by 2\n",
    "\n",
    "$d_3d_4d_5=063$ is divisible by 3\n",
    "\n",
    "$d_4d_5d_6=635$ is divisible by 5\n",
    "\n",
    "$d_5d_6d_7=357$ is divisible by 7\n",
    "\n",
    "$d_6d_7d_8=572$ is divisible by 11\n",
    "\n",
    "$d_7d_8d_9=728$ is divisible by 13\n",
    "\n",
    "$d_8d_9d_{10}=289$ is divisible by 17\n",
    "\n",
    "Find the sum of all 0 to 9 pandigital numbers with this property."
   ]
  },
  {
   "cell_type": "code",
   "execution_count": 1,
   "metadata": {
    "scrolled": false
   },
   "outputs": [
    {
     "name": "stdout",
     "output_type": "stream",
     "text": [
      "16695334890\n"
     ]
    }
   ],
   "source": [
    "from helperFunctions import SieveOfEratosthenes\n",
    "from itertools import permutations\n",
    "\n",
    "pandigital= list('0123456789')\n",
    "potental_vals = filter(lambda x: x>=10**9, [reduce(lambda x,y: x+y, n) for n in permutations(pandigital)])\n",
    "\n",
    "primes = SieveOfEratosthenes(18)\n",
    "\n",
    "for i, p in enumerate(primes):\n",
    "    potental_vals = filter(lambda x: int(x[i+1:i+4])%p==0, potental_vals)\n",
    "\n",
    "print reduce(lambda x,y: int(x)+int(y), potental_vals)"
   ]
  },
  {
   "cell_type": "code",
   "execution_count": null,
   "metadata": {
    "collapsed": true
   },
   "outputs": [],
   "source": []
  }
 ],
 "metadata": {
  "kernelspec": {
   "display_name": "Python 2",
   "language": "python",
   "name": "python2"
  },
  "language_info": {
   "codemirror_mode": {
    "name": "ipython",
    "version": 2
   },
   "file_extension": ".py",
   "mimetype": "text/x-python",
   "name": "python",
   "nbconvert_exporter": "python",
   "pygments_lexer": "ipython2",
   "version": "2.7.10"
  }
 },
 "nbformat": 4,
 "nbformat_minor": 2
}
