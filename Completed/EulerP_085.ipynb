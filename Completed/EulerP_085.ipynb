{
 "cells": [
  {
   "cell_type": "markdown",
   "metadata": {},
   "source": [
    "By counting carefully it can be seen that a rectangular grid measuring 3 by 2 contains eighteen rectangles:\n",
    "\n",
    "\n",
    "Although there exists no rectangular grid that contains exactly two million rectangles, find the area of the grid with the nearest solution."
   ]
  },
  {
   "cell_type": "code",
   "execution_count": null,
   "metadata": {
    "collapsed": true
   },
   "outputs": [],
   "source": [
    "min_diff = 2*10**6\n",
    "\n",
    "for x in range(2, 100):\n",
    "    for y in range(x, 100):\n",
    "        # minimize distance from 2*10**6\n",
    "        diff = abs(x*(x + 1) * y*(y + 1) / 4 - 2*10**6)\n",
    "        if diff < min_diff:\n",
    "            area = x * y\n",
    "            min_diff = diff\n",
    "\n",
    "print area"
   ]
  },
  {
   "cell_type": "code",
   "execution_count": null,
   "metadata": {
    "collapsed": true
   },
   "outputs": [],
   "source": []
  }
 ],
 "metadata": {
  "kernelspec": {
   "display_name": "Python 2",
   "language": "python",
   "name": "python2"
  },
  "language_info": {
   "codemirror_mode": {
    "name": "ipython",
    "version": 2
   },
   "file_extension": ".py",
   "mimetype": "text/x-python",
   "name": "python",
   "nbconvert_exporter": "python",
   "pygments_lexer": "ipython2",
   "version": "2.7.10"
  }
 },
 "nbformat": 4,
 "nbformat_minor": 2
}
