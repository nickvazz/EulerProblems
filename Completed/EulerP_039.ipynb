{
 "cells": [
  {
   "cell_type": "markdown",
   "metadata": {},
   "source": [
    "# #39 - Integer right triangles\n",
    "\n",
    "If p is the perimeter of a right angle triangle with integral length sides, {a,b,c}, there are exactly three solutions for p = 120.\n",
    "\n",
    "{20,48,52}, {24,45,51}, {30,40,50}\n",
    "\n",
    "For which value of p ≤ 1000, is the number of solutions maximised?"
   ]
  },
  {
   "cell_type": "code",
   "execution_count": null,
   "metadata": {},
   "outputs": [],
   "source": [
    "import numpy as np\n",
    "import pandas as pd\n",
    "\n",
    "size = 1000\n",
    "A = np.asarray(map(lambda x: x**2., range(1,size+1)))\n",
    "B = np.asarray(map(lambda x: x**2., range(1,size+1)))\n",
    "        \n",
    "triangles = np.asarray([ np.asarray([ [a**.5,b**.5,int(a+b)**.5, a**.5 +b**.5 +int(a+b)**.5] for a in A]) for b in B]).reshape(size**2,4)\n",
    "triangles = pd.DataFrame(triangles, columns=list('abcp')).sort_values('p')\n",
    "triangles['int_p'] = triangles['p'].apply(round, args={0})\n",
    "triangles = triangles[(triangles['p'] == triangles['int_p']) & (triangles['p'] < 1000)]\n",
    "\n",
    "\n",
    "print triangles['p'].value_counts().index[0]\n",
    "print triangles['p'].value_counts().iloc[0]\n",
    "\n"
   ]
  },
  {
   "cell_type": "code",
   "execution_count": null,
   "metadata": {
    "collapsed": true
   },
   "outputs": [],
   "source": []
  }
 ],
 "metadata": {
  "kernelspec": {
   "display_name": "Python 2",
   "language": "python",
   "name": "python2"
  },
  "language_info": {
   "codemirror_mode": {
    "name": "ipython",
    "version": 2
   },
   "file_extension": ".py",
   "mimetype": "text/x-python",
   "name": "python",
   "nbconvert_exporter": "python",
   "pygments_lexer": "ipython2",
   "version": "2.7.10"
  }
 },
 "nbformat": 4,
 "nbformat_minor": 2
}
