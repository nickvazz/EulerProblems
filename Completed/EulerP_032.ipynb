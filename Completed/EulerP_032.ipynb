{
 "cells": [
  {
   "cell_type": "markdown",
   "metadata": {},
   "source": [
    "# #Pandigital products\n",
    "\n",
    "We shall say that an n-digit number is pandigital if it makes use of all the digits 1 to n exactly once; for example, the 5-digit number, 15234, is 1 through 5 pandigital.\n",
    "\n",
    "The product 7254 is unusual, as the identity, 39 × 186 = 7254, containing multiplicand, multiplier, and product is 1 through 9 pandigital.\n",
    "\n",
    "Find the sum of all products whose multiplicand/multiplier/product identity can be written as a 1 through 9 pandigital.\n",
    "\n",
    "HINT: Some products can be obtained in more than one way so be sure to only include it once in your sum."
   ]
  },
  {
   "cell_type": "code",
   "execution_count": 79,
   "metadata": {
    "scrolled": false
   },
   "outputs": [
    {
     "name": "stdout",
     "output_type": "stream",
     "text": [
      "45228\n"
     ]
    }
   ],
   "source": [
    "from itertools import permutations\n",
    "import pandas as pd\n",
    "import numpy as np\n",
    "\n",
    "perm5 = list(permutations(range(1,10),5))\n",
    "setPerm5 = [sorted(set(p)) for p in perm5]\n",
    "diffPerm5 = [list(set(range(1,10)).difference(p)) for p in setPerm5]\n",
    "\n",
    "first2_5 = [int(str(x[0]) + str(x[1])) for x in perm5]\n",
    "second3_5 = [int(str(x[2]) + str(x[3]) + str(x[4])) for x in perm5]\n",
    "\n",
    "five_four = pd.DataFrame({'first':first2_5, 'second':second3_5, 'diff':diffPerm5})\n",
    "five_four['prod'] = five_four['first'] * five_four['second']\n",
    "five_four['prod_set'] = [sorted(set(map(int,list(str(p))))) for p in five_four['prod']]\n",
    "five_four['truth'] = five_four['diff'] == five_four['prod_set']\n",
    "\n",
    "five_four['prod_len'] = [len(str(x)) for x in five_four['prod']]\n",
    "\n",
    "\n",
    "\n",
    "\n",
    "first1_5 = [int(str(x[0])) for x in perm5]\n",
    "second4_5 = [int(str(x[1]) + str(x[2]) + str(x[3]) + str(x[4])) for x in perm5]\n",
    "\n",
    "one_four = pd.DataFrame({'first':first1_5, 'second':second4_5, 'diff':diffPerm5})\n",
    "one_four['prod'] = one_four['first'] * one_four['second']\n",
    "one_four['prod_set'] = [sorted(set(map(int,list(str(p))))) for p in one_four['prod']]\n",
    "one_four['truth'] = one_four['diff'] == one_four['prod_set']\n",
    "\n",
    "one_four['prod_len'] = [len(str(x)) for x in one_four['prod']]\n",
    "\n",
    "\n",
    "five_four = five_four[(five_four['truth'] == True)]\n",
    "five_four = five_four[(five_four['prod_len'] == 4)]\n",
    "\n",
    "one_four = one_four[(one_four['truth'] == True)]\n",
    "one_four = one_four[(one_four['prod_len'] == 4)]\n",
    "\n",
    "\n",
    "a = sum(five_four['prod'].unique())\n",
    "b = sum(one_four['prod'].unique())\n",
    "print a+b"
   ]
  },
  {
   "cell_type": "code",
   "execution_count": null,
   "metadata": {
    "collapsed": true
   },
   "outputs": [],
   "source": []
  }
 ],
 "metadata": {
  "kernelspec": {
   "display_name": "Python 2",
   "language": "python",
   "name": "python2"
  },
  "language_info": {
   "codemirror_mode": {
    "name": "ipython",
    "version": 2
   },
   "file_extension": ".py",
   "mimetype": "text/x-python",
   "name": "python",
   "nbconvert_exporter": "python",
   "pygments_lexer": "ipython2",
   "version": "2.7.10"
  }
 },
 "nbformat": 4,
 "nbformat_minor": 2
}
