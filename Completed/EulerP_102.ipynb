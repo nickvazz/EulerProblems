{
 "cells": [
  {
   "cell_type": "markdown",
   "metadata": {},
   "source": [
    "# #102 Triangle containment\n",
    "\n",
    "Three distinct points are plotted at random on a Cartesian plane, for which -1000 ≤ x, y ≤ 1000, such that a triangle is formed.\n",
    "\n",
    "Consider the following two triangles:\n",
    "\n",
    "A(-340,495), B(-153,-910), C(835,-947)\n",
    "\n",
    "X(-175,41), Y(-421,-714), Z(574,-645)\n",
    "\n",
    "It can be verified that triangle ABC contains the origin, whereas triangle XYZ does not.\n",
    "\n",
    "Using triangles.txt (right click and 'Save Link/Target As...'), a 27K text file containing the co-ordinates of one thousand \"random\" triangles, find the number of triangles for which the interior contains the origin.\n",
    "\n",
    "NOTE: The first two examples in the file represent the triangles in the example given above."
   ]
  },
  {
   "cell_type": "code",
   "execution_count": 2,
   "metadata": {},
   "outputs": [
    {
     "name": "stdout",
     "output_type": "stream",
     "text": [
      "228\n"
     ]
    }
   ],
   "source": [
    "import pandas as pd\n",
    "import numpy as np\n",
    "\n",
    "df = pd.DataFrame(pd.read_csv('p102_triangles.txt',header=None))\n",
    "df.columns = 'x1,y1,x2,y2,x3,y3'.split(',')\n",
    "\n",
    "def TriangleArea(x1,y1,x2,y2,x3,y3):\n",
    "    return np.abs((x1-x3)*(y2-y1) - (x1-x2)*(y3-y1))\n",
    "\n",
    "count = 0\n",
    "for i in range(len(df)):\n",
    "    total = TriangleArea(*df.iloc[i].values)\n",
    "    x1,y1,x2,y2,x3,y3 = df.iloc[i].values\n",
    "    a1 = TriangleArea(x1,y1,x2,y2,0,0)\n",
    "    a2 = TriangleArea(x1,y1,0,0,x3,y3)\n",
    "    a3 = TriangleArea(0,0,x2,y2,x3,y3)\n",
    "    if a1+a2+a3 == total:\n",
    "        count += 1\n",
    "        \n",
    "print count"
   ]
  },
  {
   "cell_type": "code",
   "execution_count": null,
   "metadata": {
    "collapsed": true
   },
   "outputs": [],
   "source": []
  }
 ],
 "metadata": {
  "kernelspec": {
   "display_name": "Python 2",
   "language": "python",
   "name": "python2"
  },
  "language_info": {
   "codemirror_mode": {
    "name": "ipython",
    "version": 2
   },
   "file_extension": ".py",
   "mimetype": "text/x-python",
   "name": "python",
   "nbconvert_exporter": "python",
   "pygments_lexer": "ipython2",
   "version": "2.7.10"
  }
 },
 "nbformat": 4,
 "nbformat_minor": 2
}
