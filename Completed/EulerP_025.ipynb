{
 "cells": [
  {
   "cell_type": "markdown",
   "metadata": {},
   "source": [
    "# #25 - 1000-digit Fibonacci number\n",
    "\n",
    "The Fibonacci sequence is defined by the recurrence relation:\n",
    "\n",
    "Fn = Fn−1 + Fn−2, where F1 = 1 and F2 = 1.\n",
    "Hence the first 12 terms will be:\n",
    "\n",
    "F1 = 1\n",
    "\n",
    "F2 = 1\n",
    "\n",
    "F3 = 2\n",
    "\n",
    "F4 = 3\n",
    "\n",
    "F5 = 5\n",
    "\n",
    "F6 = 8\n",
    "\n",
    "F7 = 13\n",
    "\n",
    "F8 = 21\n",
    "\n",
    "F9 = 34\n",
    "\n",
    "F10 = 55\n",
    "\n",
    "F11 = 89\n",
    "\n",
    "F12 = 144\n",
    "The 12th term, F12, is the first term to contain three digits.\n",
    "\n",
    "What is the index of the first term in the Fibonacci sequence to contain 1000 digits?"
   ]
  },
  {
   "cell_type": "code",
   "execution_count": 1,
   "metadata": {},
   "outputs": [
    {
     "name": "stdout",
     "output_type": "stream",
     "text": [
      "4782\n"
     ]
    }
   ],
   "source": [
    "fib_cache = {}\n",
    "\n",
    "def fib(n):\n",
    "    if n in fib_cache:\n",
    "        return fib_cache[n]\n",
    "    if n == 1 or n == 2:\n",
    "        value = 1\n",
    "    else:\n",
    "        value = fib(n-1) + fib(n-2)\n",
    "    fib_cache[n] = value\n",
    "    return value\n",
    "\n",
    "length = 0\n",
    "n = 1\n",
    "while length < 1000:\n",
    "    length = len(str(fib(n)))\n",
    "    if length == 1000:\n",
    "        print n\n",
    "    n += 1"
   ]
  },
  {
   "cell_type": "code",
   "execution_count": null,
   "metadata": {
    "collapsed": true
   },
   "outputs": [],
   "source": []
  }
 ],
 "metadata": {
  "kernelspec": {
   "display_name": "Python 2",
   "language": "python",
   "name": "python2"
  },
  "language_info": {
   "codemirror_mode": {
    "name": "ipython",
    "version": 2
   },
   "file_extension": ".py",
   "mimetype": "text/x-python",
   "name": "python",
   "nbconvert_exporter": "python",
   "pygments_lexer": "ipython2",
   "version": "2.7.10"
  }
 },
 "nbformat": 4,
 "nbformat_minor": 2
}
