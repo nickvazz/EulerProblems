{
 "cells": [
  {
   "cell_type": "markdown",
   "metadata": {},
   "source": [
    "# #35 - Circular primes\n",
    "\n",
    "The number, 197, is called a circular prime because all rotations of the digits: 197, 971, and 719, are themselves prime.\n",
    "\n",
    "There are thirteen such primes below 100: 2, 3, 5, 7, 11, 13, 17, 31, 37, 71, 73, 79, and 97.\n",
    "\n",
    "How many circular primes are there below one million?"
   ]
  },
  {
   "cell_type": "code",
   "execution_count": 1,
   "metadata": {},
   "outputs": [
    {
     "name": "stdout",
     "output_type": "stream",
     "text": [
      "78498\n",
      "1111\n",
      "55\n"
     ]
    }
   ],
   "source": [
    "from helperFunctions import SieveOfEratosthenes\n",
    "import numpy as np\n",
    "\n",
    "primes_str = np.array([np.array(list(str(p))) for p in SieveOfEratosthenes(10**6)])\n",
    "primes = np.array(SieveOfEratosthenes(10**6))\n",
    "\n",
    "# to compare\n",
    "print len(primes)\n",
    "\n",
    "filter_primes = []\n",
    "for p in primes_str:\n",
    "    temp = list(map(lambda x: x not in ['2','4','6','8','0','5'], p))\n",
    "    if all(temp):\n",
    "        filter_primes.append(True)\n",
    "    else:\n",
    "        filter_primes.append(False)\n",
    "\n",
    "primes_str = primes_str[filter_primes]\n",
    "primes = primes[filter_primes]\n",
    "\n",
    "# wow so many knocked out\n",
    "print len(primes)\n",
    "\n",
    "counter = 0\n",
    "\n",
    "for idx, p in enumerate(primes_str):\n",
    "    works = True\n",
    "    for j in range(1,len(p)):\n",
    "        roll = int(reduce(lambda x,y: x+y, np.roll(p, j)))\n",
    "        if roll not in primes:\n",
    "            works = False\n",
    "    if works == True:\n",
    "        counter += 1\n",
    "\n",
    "# filter knocks out 2 and 5 which are prime\n",
    "print counter + 2"
   ]
  },
  {
   "cell_type": "code",
   "execution_count": null,
   "metadata": {
    "collapsed": true
   },
   "outputs": [],
   "source": []
  }
 ],
 "metadata": {
  "kernelspec": {
   "display_name": "Python 2",
   "language": "python",
   "name": "python2"
  },
  "language_info": {
   "codemirror_mode": {
    "name": "ipython",
    "version": 2
   },
   "file_extension": ".py",
   "mimetype": "text/x-python",
   "name": "python",
   "nbconvert_exporter": "python",
   "pygments_lexer": "ipython2",
   "version": "2.7.10"
  }
 },
 "nbformat": 4,
 "nbformat_minor": 2
}
