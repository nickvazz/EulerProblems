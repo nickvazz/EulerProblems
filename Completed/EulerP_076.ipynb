{
 "cells": [
  {
   "cell_type": "markdown",
   "metadata": {},
   "source": [
    "# #76 Counting summations\n",
    "\n",
    "It is possible to write five as a sum in exactly six different ways:\n",
    "\n",
    "4 + 1\n",
    "\n",
    "3 + 2\n",
    "\n",
    "3 + 1 + 1\n",
    "\n",
    "2 + 2 + 1\n",
    "\n",
    "2 + 1 + 1 + 1\n",
    "\n",
    "1 + 1 + 1 + 1 + 1\n",
    "\n",
    "How many different ways can one hundred be written as a sum of at least two positive integers?"
   ]
  },
  {
   "cell_type": "code",
   "execution_count": 107,
   "metadata": {
    "scrolled": false
   },
   "outputs": [
    {
     "name": "stdout",
     "output_type": "stream",
     "text": [
      "190569291\n"
     ]
    }
   ],
   "source": [
    "target = 100\n",
    "ways = [0]*(target+1)\n",
    "ways[0] = 1\n",
    "for i in range(1,target):\n",
    "    for j in range(i,target+1):\n",
    "        ways[j] += ways[j-i]\n",
    "\n",
    "print ways[-1]"
   ]
  },
  {
   "cell_type": "code",
   "execution_count": null,
   "metadata": {
    "collapsed": true
   },
   "outputs": [],
   "source": []
  }
 ],
 "metadata": {
  "kernelspec": {
   "display_name": "Python 2",
   "language": "python",
   "name": "python2"
  },
  "language_info": {
   "codemirror_mode": {
    "name": "ipython",
    "version": 2
   },
   "file_extension": ".py",
   "mimetype": "text/x-python",
   "name": "python",
   "nbconvert_exporter": "python",
   "pygments_lexer": "ipython2",
   "version": "2.7.10"
  }
 },
 "nbformat": 4,
 "nbformat_minor": 2
}
