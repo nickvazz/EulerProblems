{
 "cells": [
  {
   "cell_type": "markdown",
   "metadata": {},
   "source": [
    "# #17 Number letter counts\n",
    "\n",
    "If the numbers 1 to 5 are written out in words: one, two, three, four, five, then there are 3 + 3 + 5 + 4 + 4 = 19 letters used in total.\n",
    "\n",
    "If all the numbers from 1 to 1000 (one thousand) inclusive were written out in words, how many letters would be used?\n",
    "\n",
    "\n",
    "NOTE: Do not count spaces or hyphens. For example, 342 (three hundred and forty-two) contains 23 letters and 115 (one hundred and fifteen) contains 20 letters. The use of \"and\" when writing out numbers is in compliance with British usage."
   ]
  },
  {
   "cell_type": "code",
   "execution_count": 1,
   "metadata": {},
   "outputs": [
    {
     "name": "stdout",
     "output_type": "stream",
     "text": [
      "21124\n"
     ]
    }
   ],
   "source": [
    "num_2_letters = {\n",
    "    1:\"one\", 2:'two', 3:\"three\", 4:\"four\", 5:\"five\",\n",
    "    6:\"six\", 7:\"seven\", 8:\"eight\", 9:\"nine\", 10:\"ten\",\n",
    "    11:\"eleven\", 12:\"twelve\", 13:\"thirteen\", 14:\"fourteen\",\n",
    "    15:\"fifteen\", 16:\"sixteen\", 17:\"seventeen\", 18:\"eighteen\",\n",
    "    19:\"nineteen\", 20:\"twenty\", 30:\"thirty\", 40:\"forty\",\n",
    "    50:\"fifty\", 60:\"sixty\", 70:\"seventy\", 80:\"eighty\", \n",
    "    90:\"ninety\", 100:\"hundred\", 1000:\"thousand\", 0:''\n",
    "                 }\n",
    "\n",
    "letter_counter = 0\n",
    "\n",
    "for num in range(1,1001):\n",
    "# for num in [342,115]:\n",
    "    str_num = str(num).zfill(4)\n",
    "    ones, tens, hundreds, thousands = [int(x) for x in list(str_num)][::-1]\n",
    "    \n",
    "    if (bool(thousands) or bool(hundreds)) and (bool(tens) or bool(ones)):\n",
    "        letter_counter += 3 # and\n",
    "    \n",
    "    if thousands != 0:\n",
    "        letter_counter += len(num_2_letters[1000])\n",
    "\n",
    "    if (tens*10+ones) <= 20 and (tens*10+ones) >= 1:\n",
    "        letter_counter += len(num_2_letters[tens*10+ones])\n",
    "        \n",
    "    elif (tens*10+ones) > 20:\n",
    "#         print tens*10+ones\n",
    "        letter_counter += len(num_2_letters[tens*10])\n",
    "        letter_counter += len(num_2_letters[ones])\n",
    "        \n",
    "    if hundreds >= 1:\n",
    "#         print hundreds\n",
    "        letter_counter += len(num_2_letters[hundreds])\n",
    "        letter_counter += len(num_2_letters[100])\n",
    "#     print letter_counter\n",
    "\n",
    "\n",
    "\n",
    "print letter_counter + 3 # missing and"
   ]
  },
  {
   "cell_type": "code",
   "execution_count": null,
   "metadata": {
    "collapsed": true
   },
   "outputs": [],
   "source": []
  }
 ],
 "metadata": {
  "kernelspec": {
   "display_name": "Python 2",
   "language": "python",
   "name": "python2"
  },
  "language_info": {
   "codemirror_mode": {
    "name": "ipython",
    "version": 2
   },
   "file_extension": ".py",
   "mimetype": "text/x-python",
   "name": "python",
   "nbconvert_exporter": "python",
   "pygments_lexer": "ipython2",
   "version": "2.7.10"
  }
 },
 "nbformat": 4,
 "nbformat_minor": 2
}
