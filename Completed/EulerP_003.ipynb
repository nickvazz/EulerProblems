{
 "cells": [
  {
   "cell_type": "markdown",
   "metadata": {},
   "source": [
    "# #3 - Largest Prime \n",
    "\n",
    "The prime factors of 13195 are 5, 7, 13 and 29.\n",
    "\n",
    "What is the largest prime factor of the number 600851475143 ?\n",
    "\n",
    "\n"
   ]
  },
  {
   "cell_type": "code",
   "execution_count": 3,
   "metadata": {},
   "outputs": [
    {
     "name": "stdout",
     "output_type": "stream",
     "text": [
      "6857\n"
     ]
    }
   ],
   "source": [
    "import numba\n",
    "from numba import jit\n",
    "\n",
    "@jit\n",
    "def largestPrime(n):\n",
    "    i = 2\n",
    "    while i * i <= n:\n",
    "        while n%i == 0:\n",
    "            n = n / i\n",
    "        i += 1\n",
    "    return n\n",
    "\n",
    "num = largestPrime(600851475143)\n",
    "\n",
    "print num"
   ]
  },
  {
   "cell_type": "markdown",
   "metadata": {},
   "source": [
    "- From Stack Exchange\n",
    "\n",
    "This explanation uses two while loops. The biggest thing to remember about while loops is that they run until they are no longer true.\n",
    "\n",
    "The outer loop states that while ${i * i}$ isn't greater than $n$ (because the largest prime factor will never be larger than the $\\sqrt{n}$), add $1$ to $i$ after the inner loop runs.\n",
    "\n",
    "The inner loop states that while $i$ divides evenly into $n$, replace $n$ with $\\frac{n}{i}$. This loop runs continuously until it is no longer true. For $n=20$ and $i=2$, $n$ is replaced by $10$, then again by $5$. Because $2$ doesn't evenly divide into $5$, the loop stops with $n=5$ and the outer loop finishes, producing $i+1=3$.\n",
    "\n",
    "Finally, because $3^2 >  5$, the outer loop is no longer true and prints the result of $n$.\n",
    "\n",
    "Thanks for posting this. I looked at the code forever before realizing how exactly it worked. Hopefully, this is what you're looking for in a response. If not, let me know and I can explain further."
   ]
  },
  {
   "cell_type": "code",
   "execution_count": null,
   "metadata": {
    "collapsed": true
   },
   "outputs": [],
   "source": []
  }
 ],
 "metadata": {
  "kernelspec": {
   "display_name": "Python 2",
   "language": "python",
   "name": "python2"
  },
  "language_info": {
   "codemirror_mode": {
    "name": "ipython",
    "version": 2
   },
   "file_extension": ".py",
   "mimetype": "text/x-python",
   "name": "python",
   "nbconvert_exporter": "python",
   "pygments_lexer": "ipython2",
   "version": "2.7.10"
  }
 },
 "nbformat": 4,
 "nbformat_minor": 2
}
