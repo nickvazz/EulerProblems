{
 "cells": [
  {
   "cell_type": "code",
   "execution_count": 2,
   "metadata": {
    "scrolled": false
   },
   "outputs": [
    {
     "name": "stdout",
     "output_type": "stream",
     "text": [
      "(19, 95) (0.20000000000000001, 0.2)\n",
      "(26, 65) (0.40000000000000002, 0.4)\n",
      "(49, 98) (0.5, 0.5)\n",
      "(16, 64) (0.25, 0.25)\n",
      "100.0\n"
     ]
    }
   ],
   "source": [
    "import pandas as pd\n",
    "import numpy as np\n",
    "\n",
    "possible_numerators = np.arange(10,100)\n",
    "possible_denominators = np.arange(10,100)\n",
    "\n",
    "possible_fractions = {}\n",
    "\n",
    "for n in possible_numerators:\n",
    "    for d in possible_denominators:\n",
    "        n_s, d_s = str(n), str(d)\n",
    "        \n",
    "        for val in n_s:\n",
    "            if val in d_s:\n",
    "                if n/float(d) < 1:\n",
    "                    other_n = int(n_s.replace(val, '',1))\n",
    "                    other_d = float(d_s.replace(val, '',1))\n",
    "#                     print n_s, d_s\n",
    "#                     print other_n, other_d\n",
    "                    if other_d == 0:\n",
    "                        pass\n",
    "                    else:\n",
    "                        if n/float(d) == other_n/other_d:\n",
    "                            possible_fractions[(n,d)] = (n/float(d), other_n/other_d)\n",
    "        \n",
    "        \n",
    "prod = 1\n",
    "\n",
    "for key,value in possible_fractions.items():\n",
    "    if key[0] % 10 != 0:\n",
    "        print key, value\n",
    "        prod *= value[1]\n",
    "        \n",
    "print 1/prod"
   ]
  },
  {
   "cell_type": "code",
   "execution_count": null,
   "metadata": {
    "collapsed": true
   },
   "outputs": [],
   "source": []
  }
 ],
 "metadata": {
  "kernelspec": {
   "display_name": "Python 2",
   "language": "python",
   "name": "python2"
  },
  "language_info": {
   "codemirror_mode": {
    "name": "ipython",
    "version": 2
   },
   "file_extension": ".py",
   "mimetype": "text/x-python",
   "name": "python",
   "nbconvert_exporter": "python",
   "pygments_lexer": "ipython2",
   "version": "2.7.10"
  }
 },
 "nbformat": 4,
 "nbformat_minor": 2
}
