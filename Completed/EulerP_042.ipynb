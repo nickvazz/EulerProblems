{
 "cells": [
  {
   "cell_type": "markdown",
   "metadata": {},
   "source": [
    "# Problem 42 - Coded triangle numbers\n",
    "\n",
    "The nth term of the sequence of triangle numbers is given by, tn = ½n(n+1); so the first ten triangle numbers are:\n",
    "\n",
    "1, 3, 6, 10, 15, 21, 28, 36, 45, 55, ...\n",
    "\n",
    "By converting each letter in a word to a number corresponding to its alphabetical position and adding these values we form a word value. For example, the word value for SKY is 19 + 11 + 25 = 55 = t10. If the word value is a triangle number then we shall call the word a triangle word.\n",
    "\n",
    "Using words.txt (right click and 'Save Link/Target As...'), a 16K text file containing nearly two-thousand common English words, how many are triangle words?"
   ]
  },
  {
   "cell_type": "code",
   "execution_count": 8,
   "metadata": {
    "scrolled": false
   },
   "outputs": [
    {
     "name": "stdout",
     "output_type": "stream",
     "text": [
      "162\n"
     ]
    }
   ],
   "source": [
    "import pandas as pd\n",
    "\n",
    "Ts = []\n",
    "for n in range(1,10000):\n",
    "    T = (n+1)*(n/2.)\n",
    "    Ts.append(int(T))\n",
    "\n",
    "# print Ts\n",
    "\n",
    "alphabet = 'abcdefghijklmnopqrstuvwxyz'\n",
    "alphabet = alphabet.upper()\n",
    "alphabet = list(sorted(alphabet))\n",
    "index = dict(zip(alphabet,range(1,27)))\n",
    "\n",
    "data = pd.DataFrame(pd.read_csv('../p042_words.txt'))\n",
    "words = sorted(list(data))\n",
    "# print words\n",
    "\n",
    "total_sum = 0\n",
    "for word in words:\n",
    "    name_sum = 0\n",
    "    for letter in word:\n",
    "        name_sum += index[letter]\n",
    "    if name_sum in Ts:\n",
    "        total_sum += 1\n",
    "print total_sum\n"
   ]
  },
  {
   "cell_type": "code",
   "execution_count": null,
   "metadata": {
    "collapsed": true
   },
   "outputs": [],
   "source": []
  }
 ],
 "metadata": {
  "kernelspec": {
   "display_name": "Python 2",
   "language": "python",
   "name": "python2"
  },
  "language_info": {
   "codemirror_mode": {
    "name": "ipython",
    "version": 2
   },
   "file_extension": ".py",
   "mimetype": "text/x-python",
   "name": "python",
   "nbconvert_exporter": "python",
   "pygments_lexer": "ipython2",
   "version": "2.7.10"
  }
 },
 "nbformat": 4,
 "nbformat_minor": 2
}
