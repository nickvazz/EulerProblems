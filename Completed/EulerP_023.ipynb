{
 "cells": [
  {
   "cell_type": "code",
   "execution_count": 1,
   "metadata": {
    "scrolled": false
   },
   "outputs": [],
   "source": [
    "from helperFunctions import factors\n",
    "\n",
    "abundant_nums = []\n",
    "\n",
    "for num in range(1,28124):\n",
    "    if sum(factors(num))+1 > num:\n",
    "        abundant_nums.append(num)\n",
    "        \n",
    "# print abundant_nums"
   ]
  },
  {
   "cell_type": "code",
   "execution_count": 2,
   "metadata": {},
   "outputs": [
    {
     "name": "stdout",
     "output_type": "stream",
     "text": [
      "6965\n"
     ]
    }
   ],
   "source": [
    "print len(abundant_nums)\n",
    "\n",
    "possible_2sums = []\n",
    "\n",
    "for num1 in abundant_nums:\n",
    "    for num2 in abundant_nums:\n",
    "        possible_2sums.append(num1+num2)\n",
    "\n",
    "# print possible_2sums"
   ]
  },
  {
   "cell_type": "code",
   "execution_count": 3,
   "metadata": {},
   "outputs": [
    {
     "name": "stdout",
     "output_type": "stream",
     "text": [
      "24294140\n"
     ]
    }
   ],
   "source": [
    "temp = filter(lambda x: x <= 28123, possible_2sums)\n",
    "print len(temp)"
   ]
  },
  {
   "cell_type": "code",
   "execution_count": 4,
   "metadata": {},
   "outputs": [
    {
     "name": "stdout",
     "output_type": "stream",
     "text": [
      "4179871\n"
     ]
    }
   ],
   "source": [
    "temp = list(set(temp))\n",
    "\n",
    "\n",
    "total = 0\n",
    "\n",
    "for i in range(28124):\n",
    "    if i not in temp:\n",
    "        total += i\n",
    "        \n",
    "print total"
   ]
  },
  {
   "cell_type": "code",
   "execution_count": null,
   "metadata": {
    "collapsed": true
   },
   "outputs": [],
   "source": []
  }
 ],
 "metadata": {
  "kernelspec": {
   "display_name": "Python 2",
   "language": "python",
   "name": "python2"
  },
  "language_info": {
   "codemirror_mode": {
    "name": "ipython",
    "version": 2
   },
   "file_extension": ".py",
   "mimetype": "text/x-python",
   "name": "python",
   "nbconvert_exporter": "python",
   "pygments_lexer": "ipython2",
   "version": "2.7.10"
  }
 },
 "nbformat": 4,
 "nbformat_minor": 2
}
