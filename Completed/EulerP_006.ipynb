{
 "cells": [
  {
   "cell_type": "markdown",
   "metadata": {},
   "source": [
    "# #6 - Sum square difference\n",
    "\n",
    "The sum of the squares of the first ten natural numbers is,\n",
    "\n",
    "$1^2 + 2^2 + ... + 10^2 = 385$\n",
    "The square of the sum of the first ten natural numbers is,\n",
    "\n",
    "$(1 + 2 + ... + 10)^2 = 552 = 3025$\n",
    "Hence the difference between the sum of the squares of the first ten natural numbers and the square of the sum is $3025 − 385 = 2640$.\n",
    "\n",
    "Find the difference between the sum of the squares of the first one hundred natural numbers and the square of the sum."
   ]
  },
  {
   "cell_type": "code",
   "execution_count": 1,
   "metadata": {},
   "outputs": [
    {
     "name": "stdout",
     "output_type": "stream",
     "text": [
      "25164150\n"
     ]
    }
   ],
   "source": [
    "def square_sum_minus_sum_square(n):\n",
    "    sum_squares = reduce(lambda x,y: x+y**2, range(1,n+1))\n",
    "    square_sum = reduce(lambda x,y: x+y, range(1,n+1))**2\n",
    "    return square_sum-sum_squares\n",
    "\n",
    "print square_sum_minus_sum_square(100)"
   ]
  },
  {
   "cell_type": "code",
   "execution_count": null,
   "metadata": {
    "collapsed": true
   },
   "outputs": [],
   "source": []
  }
 ],
 "metadata": {
  "kernelspec": {
   "display_name": "Python 2",
   "language": "python",
   "name": "python2"
  },
  "language_info": {
   "codemirror_mode": {
    "name": "ipython",
    "version": 2
   },
   "file_extension": ".py",
   "mimetype": "text/x-python",
   "name": "python",
   "nbconvert_exporter": "python",
   "pygments_lexer": "ipython2",
   "version": "2.7.10"
  }
 },
 "nbformat": 4,
 "nbformat_minor": 2
}
