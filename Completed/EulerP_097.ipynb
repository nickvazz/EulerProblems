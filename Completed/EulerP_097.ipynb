{
 "cells": [
  {
   "cell_type": "markdown",
   "metadata": {},
   "source": [
    "# #97 - Large non-Mersenne prime\n",
    "\n",
    "The first known prime found to exceed one million digits was discovered in 1999, and is a Mersenne prime of the form $2^{6972593}−1$; it contains exactly 2,098,960 digits. Subsequently other Mersenne primes, of the form 2p−1, have been found which contain more digits.\n",
    "\n",
    "However, in 2004 there was found a massive non-Mersenne prime which contains 2,357,207 digits: $28433×2^{7830457}+1$.\n",
    "\n",
    "Find the last ten digits of this prime number."
   ]
  },
  {
   "cell_type": "code",
   "execution_count": 8,
   "metadata": {},
   "outputs": [
    {
     "name": "stdout",
     "output_type": "stream",
     "text": [
      "8739992577\n"
     ]
    }
   ],
   "source": [
    "print str(28433*2**(7830457)+1)[-10:]"
   ]
  },
  {
   "cell_type": "code",
   "execution_count": null,
   "metadata": {
    "collapsed": true
   },
   "outputs": [],
   "source": []
  }
 ],
 "metadata": {
  "kernelspec": {
   "display_name": "Python 2",
   "language": "python",
   "name": "python2"
  },
  "language_info": {
   "codemirror_mode": {
    "name": "ipython",
    "version": 2
   },
   "file_extension": ".py",
   "mimetype": "text/x-python",
   "name": "python",
   "nbconvert_exporter": "python",
   "pygments_lexer": "ipython2",
   "version": "2.7.10"
  }
 },
 "nbformat": 4,
 "nbformat_minor": 2
}
