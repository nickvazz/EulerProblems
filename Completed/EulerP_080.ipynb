{
 "cells": [
  {
   "cell_type": "markdown",
   "metadata": {},
   "source": [
    "# #80 - Square root digital expansion\n",
    "\n",
    "It is well known that if the square root of a natural number is not an integer, then it is irrational. The decimal expansion of such square roots is infinite without any repeating pattern at all.\n",
    "\n",
    "The square root of two is 1.41421356237309504880..., and the digital sum of the first one hundred decimal digits is 475.\n",
    "\n",
    "For the first one hundred natural numbers, find the total of the digital sums of the first one hundred decimal digits for all the irrational square roots."
   ]
  },
  {
   "cell_type": "code",
   "execution_count": 11,
   "metadata": {
    "scrolled": false
   },
   "outputs": [
    {
     "name": "stdout",
     "output_type": "stream",
     "text": [
      "40886\n"
     ]
    }
   ],
   "source": [
    "from decimal import getcontext, Decimal\n",
    "\n",
    "getcontext().prec = 105\n",
    "enlarge_10 = pow(10, 99)\n",
    "\n",
    "total = 0\n",
    "for z in range(2, 100):\n",
    "    val = Decimal(z).sqrt()\n",
    "    # if it doesnt have a decimal\n",
    "    if val % 1 != 0:\n",
    "        # multiply the num by 10**(100-1) to make sure\n",
    "        total += sum(int(num) for num in str(val * enlarge_10)[:100])\n",
    "\n",
    "print total"
   ]
  },
  {
   "cell_type": "code",
   "execution_count": null,
   "metadata": {
    "collapsed": true
   },
   "outputs": [],
   "source": []
  }
 ],
 "metadata": {
  "kernelspec": {
   "display_name": "Python 2",
   "language": "python",
   "name": "python2"
  },
  "language_info": {
   "codemirror_mode": {
    "name": "ipython",
    "version": 2
   },
   "file_extension": ".py",
   "mimetype": "text/x-python",
   "name": "python",
   "nbconvert_exporter": "python",
   "pygments_lexer": "ipython2",
   "version": "2.7.10"
  }
 },
 "nbformat": 4,
 "nbformat_minor": 2
}
