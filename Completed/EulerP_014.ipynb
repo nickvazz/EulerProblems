{
 "cells": [
  {
   "cell_type": "markdown",
   "metadata": {},
   "source": [
    "# #14 - Longest Collatz sequence\n",
    "\n",
    "The following iterative sequence is defined for the set of positive integers:\n",
    "\n",
    "n → n/2 (n is even)\n",
    "n → 3n + 1 (n is odd)\n",
    "\n",
    "Using the rule above and starting with 13, we generate the following sequence:\n",
    "\n",
    "13 → 40 → 20 → 10 → 5 → 16 → 8 → 4 → 2 → 1\n",
    "It can be seen that this sequence (starting at 13 and finishing at 1) contains 10 terms. Although it has not been proved yet (Collatz Problem), it is thought that all starting numbers finish at 1.\n",
    "\n",
    "Which starting number, under one million, produces the longest chain?\n",
    "\n",
    "NOTE: Once the chain starts the terms are allowed to go above one million."
   ]
  },
  {
   "cell_type": "code",
   "execution_count": 3,
   "metadata": {},
   "outputs": [
    {
     "name": "stdout",
     "output_type": "stream",
     "text": [
      "[524, 837799]\n"
     ]
    }
   ],
   "source": [
    "collatz_cache = {}\n",
    "final_counts = {}\n",
    "\n",
    "def collatz(n,start):\n",
    "    if collatz.count == 0:\n",
    "        start = n\n",
    "        \n",
    "    collatz.count += 1\n",
    "    \n",
    "    if n in final_counts:\n",
    "        return final_counts[n] + collatz.count\n",
    "    \n",
    "    elif n in collatz_cache:\n",
    "        return collatz(collatz_cache[n],start)\n",
    "    \n",
    "    if n == 1:\n",
    "        final_counts[start] = collatz.count\n",
    "    \n",
    "    elif n % 2 == 0:\n",
    "        collatz_cache[n] = (n/2)\n",
    "        return collatz(n/2, start)\n",
    "    \n",
    "    elif n % 2 == 1 and n != 1:\n",
    "        collatz_cache[n] = (3*n+1)\n",
    "        return collatz(3*n+1, start)\n",
    "    \n",
    "max_collatz = [0,0]\n",
    "for i in range(2,10**6):    \n",
    "    collatz.count = 0\n",
    "    collatz(i,i)\n",
    "\n",
    "    if collatz.count > max_collatz[0]:\n",
    "        max_collatz = [collatz.count, i]\n",
    "\n",
    "print max_collatz"
   ]
  },
  {
   "cell_type": "code",
   "execution_count": null,
   "metadata": {
    "collapsed": true
   },
   "outputs": [],
   "source": []
  }
 ],
 "metadata": {
  "kernelspec": {
   "display_name": "Python 2",
   "language": "python",
   "name": "python2"
  },
  "language_info": {
   "codemirror_mode": {
    "name": "ipython",
    "version": 2
   },
   "file_extension": ".py",
   "mimetype": "text/x-python",
   "name": "python",
   "nbconvert_exporter": "python",
   "pygments_lexer": "ipython2",
   "version": "2.7.10"
  }
 },
 "nbformat": 4,
 "nbformat_minor": 2
}
