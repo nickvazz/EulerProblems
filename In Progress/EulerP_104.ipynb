{
 "cells": [
  {
   "cell_type": "code",
   "execution_count": 65,
   "metadata": {},
   "outputs": [
    {
     "name": "stdout",
     "output_type": "stream",
     "text": [
      "Project Euler 104 Solution = 329468\n"
     ]
    }
   ],
   "source": [
    "def is_pandigital(nr, n):\n",
    "    digits = ''.join(map(str, range(1, n + 1)))\n",
    "    nr = str(nr)\n",
    "    for i in digits:\n",
    "        if str(i) not in nr[0:9]:\n",
    "            return False\n",
    "        if str(i) not in nr[-9:]:\n",
    "            return False\n",
    "    return True\n",
    "\n",
    "def top_digits(n):\n",
    "    t = n * 0.20898764024997873 + (-0.3494850021680094)\n",
    "    t = int((pow(10, t - int(t) + 8)))\n",
    "    return t\n",
    "\n",
    "fk, f0, f1 = 2, 1, 1\n",
    "while not is_pandigital(f1) or not is_pandigital(top_digits(fk),9):\n",
    "    f0, f1 = f1, (f1+f0) % 10**9\n",
    "    fk += 1\n",
    "print \"Project Euler 104 Solution =\", fk"
   ]
  },
  {
   "cell_type": "code",
   "execution_count": null,
   "metadata": {
    "collapsed": true
   },
   "outputs": [],
   "source": []
  }
 ],
 "metadata": {
  "kernelspec": {
   "display_name": "Python 2",
   "language": "python",
   "name": "python2"
  },
  "language_info": {
   "codemirror_mode": {
    "name": "ipython",
    "version": 2
   },
   "file_extension": ".py",
   "mimetype": "text/x-python",
   "name": "python",
   "nbconvert_exporter": "python",
   "pygments_lexer": "ipython2",
   "version": "2.7.10"
  }
 },
 "nbformat": 4,
 "nbformat_minor": 2
}
