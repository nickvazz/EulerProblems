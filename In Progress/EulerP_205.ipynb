{
 "cells": [
  {
   "cell_type": "code",
   "execution_count": 48,
   "metadata": {},
   "outputs": [
    {
     "name": "stdout",
     "output_type": "stream",
     "text": [
      "6\n",
      "30\n",
      "60\n",
      "60\n",
      "30\n",
      "6\n",
      "192\n"
     ]
    }
   ],
   "source": [
    "f_cache = {}\n",
    "def factorial(n):\n",
    "    if n == 0 or n == 1:\n",
    "        return 1\n",
    "    if n in f_cache:\n",
    "        return f_cache[n]\n",
    "    \n",
    "    val = n * factorial(n-1)\n",
    "    f_cache[n] = val\n",
    "    return val\n",
    "\n",
    "def nCr(n,r):\n",
    "    return factorial(n)/((factorial(r) * factorial(n-r)))\n",
    "\n",
    "def nPr(n,r):\n",
    "    return factorial(n)/(factorial(n-r))\n",
    "\n",
    "def nUn(N,n):\n",
    "    return factorial(n+N-1) / (factorial(n) * factorial(N-1))\n",
    "\n",
    "total = 0\n",
    "for i in range(6):\n",
    "    print 6*nCr(5,i)\n",
    "    total+=6*nCr(5,i)\n",
    "    \n",
    "print total"
   ]
  },
  {
   "cell_type": "code",
   "execution_count": null,
   "metadata": {
    "collapsed": true
   },
   "outputs": [],
   "source": []
  }
 ],
 "metadata": {
  "kernelspec": {
   "display_name": "Python 2",
   "language": "python",
   "name": "python2"
  },
  "language_info": {
   "codemirror_mode": {
    "name": "ipython",
    "version": 2
   },
   "file_extension": ".py",
   "mimetype": "text/x-python",
   "name": "python",
   "nbconvert_exporter": "python",
   "pygments_lexer": "ipython2",
   "version": "2.7.10"
  }
 },
 "nbformat": 4,
 "nbformat_minor": 2
}
