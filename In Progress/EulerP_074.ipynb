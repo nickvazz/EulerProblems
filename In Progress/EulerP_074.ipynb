{
 "cells": [
  {
   "cell_type": "code",
   "execution_count": 56,
   "metadata": {
    "scrolled": false
   },
   "outputs": [
    {
     "name": "stdout",
     "output_type": "stream",
     "text": [
      "{0: 1, 1: 1, 2: 2, 3: 6, 4: 24, 5: 120, 6: 720, 7: 5040, 8: 40320, 9: 362880}\n",
      "60\n",
      "\n",
      "363601\n",
      "1451\n",
      "169\n",
      "1451\n",
      "40327\n",
      "145\n",
      "5049\n",
      "5050\n",
      "\n",
      "{11: 2, 145: 145, 872: 5050, 745: 151, 1451: 146, 722: 11, 1454: 169, 363600: 1451, 363601: 1451, 146: 745, 871: 5049, 78: 40327, 24: 26, 169: 363601, 120: 4, 122: 5, 151: 122, 26: 722}\n",
      "{0: 1, 1: 1, 2: 2, 3: 6, 4: 24, 5: 120, 6: 720, 7: 5040, 8: 40320, 9: 362880}\n"
     ]
    }
   ],
   "source": [
    "\n",
    "fact_cache = {0:1}\n",
    "def factorial(n):\n",
    "    if n in fact_cache:\n",
    "        return fact_cache[n]    \n",
    "    else:\n",
    "        val = reduce(lambda x,y: x*y, range(1,n+1))\n",
    "        fact_cache[n] = val\n",
    "        return val\n",
    "\n",
    "new_num_cache = {}\n",
    "for i in range(1,10):\n",
    "    factorial(i)\n",
    "    \n",
    "print fact_cache\n",
    "    \n",
    "    \n",
    "def new_num(n):\n",
    "    if n < 10:\n",
    "        return fact_cache[n]\n",
    "    \n",
    "    if n in new_num_cache:\n",
    "        return new_num_cache[n]\n",
    "    \n",
    "    val = reduce(lambda x,y: x + factorial(y), map(int,list(str(n))))\n",
    "    new_num_cache[n] = val\n",
    "    return val\n",
    "\n",
    "\n",
    "for num in [169]:\n",
    "    chain_length = 0\n",
    "    chain_cache = [num]\n",
    "    val = new_num(num)\n",
    "    \n",
    "    while val not in chain_cache:\n",
    "        chain_length += 1\n",
    "#         print val\n",
    "        \n",
    "        val = new_num(val)\n",
    "        \n",
    "    \n",
    "        if chain_length == 60:\n",
    "            print chain_length\n",
    "            break\n",
    "    \n",
    "    \n",
    "print\n",
    "print new_num(169)\n",
    "print new_num(363601)\n",
    "print new_num(1454)\n",
    "print new_num(363600)\n",
    "print new_num(78)\n",
    "print new_num(145)\n",
    "print new_num(871)\n",
    "print new_num(872)\n",
    "\n",
    "print \n",
    "print new_num_cache\n",
    "print fact_cache\n",
    "\n"
   ]
  },
  {
   "cell_type": "code",
   "execution_count": null,
   "metadata": {
    "collapsed": true
   },
   "outputs": [],
   "source": []
  }
 ],
 "metadata": {
  "kernelspec": {
   "display_name": "Python 2",
   "language": "python",
   "name": "python2"
  },
  "language_info": {
   "codemirror_mode": {
    "name": "ipython",
    "version": 2
   },
   "file_extension": ".py",
   "mimetype": "text/x-python",
   "name": "python",
   "nbconvert_exporter": "python",
   "pygments_lexer": "ipython2",
   "version": "2.7.10"
  }
 },
 "nbformat": 4,
 "nbformat_minor": 2
}
