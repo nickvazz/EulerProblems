{
 "cells": [
  {
   "cell_type": "code",
   "execution_count": 46,
   "metadata": {},
   "outputs": [
    {
     "name": "stdout",
     "output_type": "stream",
     "text": [
      "1\n",
      "9\n",
      "9 3\n",
      "36\n",
      "36 2\n",
      "84\n",
      "84 2\n",
      "126\n",
      "126 3\n",
      "126\n",
      "126 3\n",
      "84\n",
      "84 2\n",
      "36\n",
      "36 2\n",
      "9\n",
      "9 3\n",
      "1\n",
      "5761455\n"
     ]
    }
   ],
   "source": [
    "import import_ipynb\n",
    "from helperFunctions import SieveOfEratosthenes\n",
    "\n",
    "\n",
    "\n",
    "f_cache = {}\n",
    "def factorial(n):\n",
    "    if n == 0 or n == 1:\n",
    "        return 1\n",
    "    if n in f_cache:\n",
    "        return f_cache[n]\n",
    "    \n",
    "    val = n * factorial(n-1)\n",
    "    f_cache[n] = val\n",
    "    return val\n",
    "\n",
    "def nCr(n,r):\n",
    "    return factorial(n)/((factorial(r) * factorial(n-r)))\n",
    "\n",
    "\n",
    "n=9\n",
    "total = 0\n",
    "for i in range(n):\n",
    "    val = nCr(n,i)\n",
    "    p2 = False\n",
    "    print val\n",
    "    for p in primes[:10]:\n",
    "        if p2 == False:\n",
    "            if val % p**2 == 0:\n",
    "                print val, p\n",
    "                p2 = True\n",
    "            \n",
    "    if p2 == False:\n",
    "        total += val\n",
    "print total\n",
    "primes = SieveOfEratosthenes(10**8)\n",
    "print len(primes)"
   ]
  },
  {
   "cell_type": "code",
   "execution_count": null,
   "metadata": {
    "collapsed": true
   },
   "outputs": [],
   "source": []
  }
 ],
 "metadata": {
  "kernelspec": {
   "display_name": "Python 2",
   "language": "python",
   "name": "python2"
  },
  "language_info": {
   "codemirror_mode": {
    "name": "ipython",
    "version": 2
   },
   "file_extension": ".py",
   "mimetype": "text/x-python",
   "name": "python",
   "nbconvert_exporter": "python",
   "pygments_lexer": "ipython2",
   "version": "2.7.10"
  }
 },
 "nbformat": 4,
 "nbformat_minor": 2
}
