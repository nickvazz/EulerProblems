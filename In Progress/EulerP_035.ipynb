{
 "cells": [
  {
   "cell_type": "markdown",
   "metadata": {},
   "source": [
    "# #35 - Circular primes\n",
    "\n",
    "The number, 197, is called a circular prime because all rotations of the digits: 197, 971, and 719, are themselves prime.\n",
    "\n",
    "There are thirteen such primes below 100: 2, 3, 5, 7, 11, 13, 17, 31, 37, 71, 73, 79, and 97.\n",
    "\n",
    "How many circular primes are there below one million?"
   ]
  },
  {
   "cell_type": "code",
   "execution_count": null,
   "metadata": {},
   "outputs": [],
   "source": [
    "import import_ipynb\n",
    "from EulerP_003 import SieveOfEratosthenes\n",
    "\n",
    "from itertools import permutations\n",
    "\n",
    "primes = SieveOfEratosthenes(10**6)\n",
    "# doesnt scale\n",
    "circ_prime = []\n",
    "for p in primes:\n",
    "    if all(x in primes for x in [int(reduce(lambda x,y: x+y, item)) for item in list(permutations(list(str(p))))]) == True:\n",
    "        circ_prime.append(p)\n",
    "    if p > 10**6:\n",
    "        break\n",
    "        \n",
    "print len(circ_prime)"
   ]
  },
  {
   "cell_type": "code",
   "execution_count": null,
   "metadata": {
    "collapsed": true
   },
   "outputs": [],
   "source": []
  }
 ],
 "metadata": {
  "kernelspec": {
   "display_name": "Python 2",
   "language": "python",
   "name": "python2"
  },
  "language_info": {
   "codemirror_mode": {
    "name": "ipython",
    "version": 2
   },
   "file_extension": ".py",
   "mimetype": "text/x-python",
   "name": "python",
   "nbconvert_exporter": "python",
   "pygments_lexer": "ipython2",
   "version": "2.7.10"
  }
 },
 "nbformat": 4,
 "nbformat_minor": 2
}
