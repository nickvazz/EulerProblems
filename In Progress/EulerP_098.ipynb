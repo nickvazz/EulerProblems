{
 "cells": [
  {
   "cell_type": "code",
   "execution_count": 48,
   "metadata": {
    "scrolled": false
   },
   "outputs": [
    {
     "name": "stdout",
     "output_type": "stream",
     "text": [
      "       words sorted_letters  length             nums  unique_length  \\\n",
      "words                                                                 \n",
      "ACT      ACT            ACT       3        [0, 1, 2]              3   \n",
      "ARISE  ARISE          AEIRS       5  [0, 3, 2, 4, 1]              5   \n",
      "BOARD  BOARD          ABDOR       5  [1, 3, 0, 4, 2]              5   \n",
      "BROAD  BROAD          ABDOR       5  [1, 4, 3, 0, 2]              5   \n",
      "CARE    CARE           ACER       4     [1, 0, 3, 2]              4   \n",
      "\n",
      "            idx_counts  \n",
      "words                   \n",
      "ACT          [1, 1, 1]  \n",
      "ARISE  [1, 1, 1, 1, 1]  \n",
      "BOARD  [1, 1, 1, 1, 1]  \n",
      "BROAD  [1, 1, 1, 1, 1]  \n",
      "CARE      [1, 1, 1, 1]  \n",
      "    square       nums    num_idx  num_len  num_unique_len idx_counts\n",
      "0        0        [0]        [0]        1               1        [1]\n",
      "1        1        [1]        [0]        1               1        [1]\n",
      "2        4        [4]        [0]        1               1        [1]\n",
      "3        9        [9]        [0]        1               1        [1]\n",
      "4       16     [1, 6]     [0, 1]        2               2     [1, 1]\n",
      "5       25     [2, 5]     [0, 1]        2               2     [1, 1]\n",
      "6       36     [3, 6]     [0, 1]        2               2     [1, 1]\n",
      "7       49     [4, 9]     [0, 1]        2               2     [1, 1]\n",
      "8       64     [6, 4]     [1, 0]        2               2     [1, 1]\n",
      "9       81     [8, 1]     [1, 0]        2               2     [1, 1]\n",
      "10     100  [1, 0, 0]  [1, 0, 0]        3               2     [1, 2]\n",
      "11     121  [1, 2, 1]  [0, 1, 0]        3               2     [1, 2]\n",
      "12     144  [1, 4, 4]  [0, 1, 1]        3               2     [1, 2]\n",
      "13     169  [1, 6, 9]  [0, 1, 2]        3               3  [1, 1, 1]\n",
      "14     196  [1, 9, 6]  [0, 2, 1]        3               3  [1, 1, 1]\n",
      "15     225  [2, 2, 5]  [0, 0, 1]        3               2     [1, 2]\n",
      "16     256  [2, 5, 6]  [0, 1, 2]        3               3  [1, 1, 1]\n",
      "17     289  [2, 8, 9]  [0, 1, 2]        3               3  [1, 1, 1]\n",
      "18     324  [3, 2, 4]  [1, 0, 2]        3               3  [1, 1, 1]\n",
      "19     361  [3, 6, 1]  [1, 2, 0]        3               3  [1, 1, 1]\n",
      "[0 0 1]\n",
      "[2 1]\n",
      "[0 1] [2 1]\n",
      "[(0, 2), (1, 1)]\n",
      "{0: 2, 1: 1}\n",
      "       words sorted_letters  length             nums  unique_length  \\\n",
      "words                                                                 \n",
      "BOARD  BOARD          ABDOR       5  [1, 3, 0, 4, 2]              5   \n",
      "BROAD  BROAD          ABDOR       5  [1, 4, 3, 0, 2]              5   \n",
      "\n",
      "            idx_counts  \n",
      "words                   \n",
      "BOARD  [1, 1, 1, 1, 1]  \n",
      "BROAD  [1, 1, 1, 1, 1]  \n"
     ]
    },
    {
     "ename": "AttributeError",
     "evalue": "'Series' object has no attribute 'value'",
     "output_type": "error",
     "traceback": [
      "\u001b[0;31m---------------------------------------------------------------------------\u001b[0m",
      "\u001b[0;31mAttributeError\u001b[0m                            Traceback (most recent call last)",
      "\u001b[0;32m<ipython-input-48-b814c0b6a98d>\u001b[0m in \u001b[0;36m<module>\u001b[0;34m()\u001b[0m\n\u001b[1;32m     75\u001b[0m \u001b[0mtemp_df\u001b[0m \u001b[0;34m=\u001b[0m \u001b[0mdf\u001b[0m\u001b[0;34m[\u001b[0m\u001b[0;34m(\u001b[0m\u001b[0mdf\u001b[0m\u001b[0;34m[\u001b[0m\u001b[0;34m'words'\u001b[0m\u001b[0;34m]\u001b[0m \u001b[0;34m==\u001b[0m \u001b[0;34m'BOARD'\u001b[0m\u001b[0;34m)\u001b[0m \u001b[0;34m|\u001b[0m \u001b[0;34m(\u001b[0m\u001b[0mdf\u001b[0m\u001b[0;34m[\u001b[0m\u001b[0;34m'words'\u001b[0m\u001b[0;34m]\u001b[0m \u001b[0;34m==\u001b[0m \u001b[0;34m'BROAD'\u001b[0m\u001b[0;34m)\u001b[0m\u001b[0;34m]\u001b[0m\u001b[0;34m\u001b[0m\u001b[0m\n\u001b[1;32m     76\u001b[0m \u001b[0;32mprint\u001b[0m \u001b[0mtemp_df\u001b[0m\u001b[0;34m\u001b[0m\u001b[0m\n\u001b[0;32m---> 77\u001b[0;31m \u001b[0mtemp_square\u001b[0m \u001b[0;34m=\u001b[0m \u001b[0msquares\u001b[0m\u001b[0;34m[\u001b[0m\u001b[0msquares\u001b[0m\u001b[0;34m[\u001b[0m\u001b[0;34m'idx_counts'\u001b[0m\u001b[0;34m]\u001b[0m\u001b[0;34m.\u001b[0m\u001b[0mvalue\u001b[0m \u001b[0;34m==\u001b[0m \u001b[0mnp\u001b[0m\u001b[0;34m.\u001b[0m\u001b[0marray\u001b[0m\u001b[0;34m(\u001b[0m\u001b[0;34m[\u001b[0m\u001b[0;36m1\u001b[0m\u001b[0;34m,\u001b[0m\u001b[0;36m1\u001b[0m\u001b[0;34m,\u001b[0m\u001b[0;36m1\u001b[0m\u001b[0;34m,\u001b[0m\u001b[0;36m1\u001b[0m\u001b[0;34m,\u001b[0m\u001b[0;36m1\u001b[0m\u001b[0;34m]\u001b[0m\u001b[0;34m)\u001b[0m\u001b[0;34m]\u001b[0m\u001b[0;34m\u001b[0m\u001b[0m\n\u001b[0m\u001b[1;32m     78\u001b[0m \u001b[0;32mprint\u001b[0m \u001b[0mtemp_square\u001b[0m\u001b[0;34m\u001b[0m\u001b[0m\n",
      "\u001b[0;32m/Users/nickvazz/Desktop/virtual_envs/ML_venv/lib/python2.7/site-packages/pandas/core/generic.pyc\u001b[0m in \u001b[0;36m__getattr__\u001b[0;34m(self, name)\u001b[0m\n\u001b[1;32m   3612\u001b[0m             \u001b[0;32mif\u001b[0m \u001b[0mname\u001b[0m \u001b[0;32min\u001b[0m \u001b[0mself\u001b[0m\u001b[0;34m.\u001b[0m\u001b[0m_info_axis\u001b[0m\u001b[0;34m:\u001b[0m\u001b[0;34m\u001b[0m\u001b[0m\n\u001b[1;32m   3613\u001b[0m                 \u001b[0;32mreturn\u001b[0m \u001b[0mself\u001b[0m\u001b[0;34m[\u001b[0m\u001b[0mname\u001b[0m\u001b[0;34m]\u001b[0m\u001b[0;34m\u001b[0m\u001b[0m\n\u001b[0;32m-> 3614\u001b[0;31m             \u001b[0;32mreturn\u001b[0m \u001b[0mobject\u001b[0m\u001b[0;34m.\u001b[0m\u001b[0m__getattribute__\u001b[0m\u001b[0;34m(\u001b[0m\u001b[0mself\u001b[0m\u001b[0;34m,\u001b[0m \u001b[0mname\u001b[0m\u001b[0;34m)\u001b[0m\u001b[0;34m\u001b[0m\u001b[0m\n\u001b[0m\u001b[1;32m   3615\u001b[0m \u001b[0;34m\u001b[0m\u001b[0m\n\u001b[1;32m   3616\u001b[0m     \u001b[0;32mdef\u001b[0m \u001b[0m__setattr__\u001b[0m\u001b[0;34m(\u001b[0m\u001b[0mself\u001b[0m\u001b[0;34m,\u001b[0m \u001b[0mname\u001b[0m\u001b[0;34m,\u001b[0m \u001b[0mvalue\u001b[0m\u001b[0;34m)\u001b[0m\u001b[0;34m:\u001b[0m\u001b[0;34m\u001b[0m\u001b[0m\n",
      "\u001b[0;31mAttributeError\u001b[0m: 'Series' object has no attribute 'value'"
     ]
    }
   ],
   "source": [
    "import pandas as pd\n",
    "import numpy as np\n",
    "from sklearn import preprocessing\n",
    "\n",
    "df = pd.read_csv('p098_words.txt', delimiter=',', header=None).T\n",
    "df.columns = ['words']\n",
    "df.index = df.words\n",
    "\n",
    "sorted_letters = []\n",
    "for i in range(len(df)):\n",
    "    temp = df.iloc[i,0]\n",
    "    temp = ''.join(sorted(list(str(temp))))\n",
    "    sorted_letters.append(temp)\n",
    "\n",
    "df['sorted_letters'] = sorted_letters\n",
    "df.sort_values(by='sorted_letters', inplace=True)\n",
    "\n",
    "val_counts = df['sorted_letters'].value_counts()\n",
    "\n",
    "df = df[df['sorted_letters'].isin(val_counts[val_counts>1].index)]\n",
    "\n",
    "df['length'] = [len(val) for val in df.iloc[:,0]]\n",
    "\n",
    "df['nums'] = [map(ord,list(str(x))) for x in df.loc[:,'words']]\n",
    "\n",
    "df['unique_length'] = [len(set(x)) for x in df['nums']]\n",
    "\n",
    "df = df[df['sorted_letters'] != 'OPST']\n",
    "\n",
    "index_first = []\n",
    "\n",
    "for i in range(0,len(df),2):  \n",
    "    fit = preprocessing.LabelEncoder().fit(df.iloc[i,3])\n",
    "\n",
    "    index_first.append(fit.transform(df.iloc[i,3]))\n",
    "    index_first.append(fit.transform(df.iloc[i+1,3]))\n",
    "        \n",
    "df['nums'] = index_first\n",
    "df = df.sort_values('words')\n",
    "\n",
    "df['idx_counts'] = [sorted(np.unique(x,return_counts=True)[1]) for x in df['nums']]\n",
    "# df['nums'] = df['nums'].apply(np.array)\n",
    "\n",
    "# print df\n",
    "\n",
    "\n",
    "squares = pd.DataFrame([x**2 for x in range(int((10**9)**.5))], columns=['square'])\n",
    "squares['nums'] = [map(int,np.array(list(str(x)))) for x in squares['square']]\n",
    "\n",
    "num_idx = []\n",
    "num_len = []\n",
    "num_unique_len = []\n",
    "for i in range(len(squares)):  \n",
    "    fit = preprocessing.LabelEncoder().fit_transform(squares.loc[i,'nums'])\n",
    "    num_idx.append(fit)\n",
    "    num_len.append(len(fit))\n",
    "    num_unique_len.append(len(set(fit)))\n",
    "    \n",
    "    \n",
    "squares['num_idx'] = num_idx\n",
    "squares['num_len'] = num_len\n",
    "squares['num_unique_len'] = num_unique_len\n",
    "squares['idx_counts'] = [sorted(np.unique(x, return_counts=True)[1]) for x in squares['num_idx']]\n",
    "\n",
    "print df.head()\n",
    "print squares.head(20)\n",
    "\n",
    "print squares['num_idx'][15]\n",
    "unique, counts = np.unique(squares['num_idx'][15], return_counts=True)\n",
    "print np.unique(squares['num_idx'][15], return_counts=True)[1]\n",
    "print unique, counts\n",
    "print zip(unique, counts)\n",
    "print dict(zip(unique, counts))\n",
    "\n",
    "temp_df = df[(df['words'] == 'BOARD') | (df['words'] == 'BROAD')]\n",
    "print temp_df\n",
    "\n",
    "print temp_square"
   ]
  },
  {
   "cell_type": "code",
   "execution_count": null,
   "metadata": {
    "scrolled": false
   },
   "outputs": [],
   "source": [
    "df.head(100)\n",
    "# df.sorted_letters.value_counts()\n",
    "print 499849**.5"
   ]
  },
  {
   "cell_type": "code",
   "execution_count": 3,
   "metadata": {},
   "outputs": [
    {
     "data": {
      "text/plain": [
       "177.79763777958357"
      ]
     },
     "execution_count": 3,
     "metadata": {},
     "output_type": "execute_result"
    }
   ],
   "source": [
    "31612**.5"
   ]
  },
  {
   "cell_type": "code",
   "execution_count": 4,
   "metadata": {},
   "outputs": [
    {
     "data": {
      "text/plain": [
       "137.0"
      ]
     },
     "execution_count": 4,
     "metadata": {},
     "output_type": "execute_result"
    }
   ],
   "source": [
    "squares = pd.DataFrame({'square':[i**2 for i in range(int((10**9)**.5))]})\n",
    "squares['num'] = [np.array(map(int,list(str(n)))) for n in squares.square]\n",
    "squares['length'] = [len(squares['num'][i]) for i in range(len(squares))]\n",
    "squares['unique_vals'] = [len(set(x)) for x in squares['num']]\n",
    "\n",
    "# print df.head(100)\n",
    "\n",
    "# print squares.tail()\n",
    "\n",
    "anagramic_squares = []\n",
    "anagramic_words = []\n",
    "for i in range(0,len(df),2):\n",
    "    word_len = df['unique_length'][i]\n",
    "    \n",
    "    sub_squares = squares[(squares['unique_vals'] == word_len) & (squares['length'] == df['length'][i])]\n",
    "    sub_squares.reset_index(inplace=True)\n",
    "\n",
    "    index1, index2 = df.iloc[i:i+2, 5].values\n",
    "    \n",
    "    for j in range(len(sub_squares)):\n",
    "        for k in range(len(index1)+1):\n",
    "            v1 = int(reduce(lambda x,y: str(x)+str(y), sub_squares['num'][j][np.roll(index1,k)]))\n",
    "            v2 = int(reduce(lambda x,y: str(x)+str(y), sub_squares['num'][j][np.roll(index2,k)]))\n",
    "\n",
    "\n",
    "            if v1 in sub_squares['square'].values and v2 in sub_squares['square'].values:\n",
    "\n",
    "                anagramic_squares.append(np.array([v1,v2]))\n",
    "                anagramic_words.append([df['words'][i],df['words'][i+1]])\n",
    "\n",
    "print sorted(np.ravel(np.array(anagramic_squares)))\n",
    "print anagramic_words\n",
    "print anagramic_squares\n",
    "18769**.5"
   ]
  },
  {
   "cell_type": "code",
   "execution_count": null,
   "metadata": {
    "collapsed": true
   },
   "outputs": [],
   "source": []
  }
 ],
 "metadata": {
  "kernelspec": {
   "display_name": "Python 2",
   "language": "python",
   "name": "python2"
  },
  "language_info": {
   "codemirror_mode": {
    "name": "ipython",
    "version": 2
   },
   "file_extension": ".py",
   "mimetype": "text/x-python",
   "name": "python",
   "nbconvert_exporter": "python",
   "pygments_lexer": "ipython2",
   "version": "2.7.10"
  }
 },
 "nbformat": 4,
 "nbformat_minor": 2
}
