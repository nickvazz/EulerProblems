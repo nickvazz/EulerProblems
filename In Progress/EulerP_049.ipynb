{
 "cells": [
  {
   "cell_type": "code",
   "execution_count": 9,
   "metadata": {},
   "outputs": [],
   "source": [
    "import import_ipynb\n",
    "from helperFunctions import SieveOfEratosthenes\n",
    "from itertools import permutations\n",
    "\n",
    "primes = SieveOfEratosthenes(10**4)"
   ]
  },
  {
   "cell_type": "code",
   "execution_count": 29,
   "metadata": {},
   "outputs": [
    {
     "name": "stdout",
     "output_type": "stream",
     "text": [
      "1039\n",
      "[1039, 1093, 3109, 3019, 9103, 9013]\n"
     ]
    }
   ],
   "source": [
    "primes_4 = filter(lambda x: len(str(x))==4, primes)\n",
    "\n",
    "print primes_4[6]\n",
    "\n",
    "perms = map(int,[reduce(lambda x,y: x+y, n) for n in list(permutations(str(primes_4[6])))])\n",
    "\n",
    "print filter(lambda x: x in primes and x > 999, perms)"
   ]
  },
  {
   "cell_type": "code",
   "execution_count": null,
   "metadata": {
    "collapsed": true
   },
   "outputs": [],
   "source": []
  }
 ],
 "metadata": {
  "kernelspec": {
   "display_name": "Python 2",
   "language": "python",
   "name": "python2"
  },
  "language_info": {
   "codemirror_mode": {
    "name": "ipython",
    "version": 2
   },
   "file_extension": ".py",
   "mimetype": "text/x-python",
   "name": "python",
   "nbconvert_exporter": "python",
   "pygments_lexer": "ipython2",
   "version": "2.7.10"
  }
 },
 "nbformat": 4,
 "nbformat_minor": 2
}
