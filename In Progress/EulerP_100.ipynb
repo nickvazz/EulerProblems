{
 "cells": [
  {
   "cell_type": "code",
   "execution_count": 64,
   "metadata": {},
   "outputs": [
    {
     "name": "stdout",
     "output_type": "stream",
     "text": [
      "Total disks = 1000000000000\n",
      "Number of Blue disks, number of total disks = 756872327473 n\n"
     ]
    }
   ],
   "source": [
    "# http://new.math.uiuc.edu/public348/python/diophantus.html\n",
    "# https://www.alpertron.com.ar/METHODS.HTM\n",
    "\n",
    "\n",
    "#Project Euler Problem 100\n",
    "\n",
    "b, t, L = 3, 4, 10**12\n",
    "while t <= L:\n",
    "    b, t = 3*b + 2*t - 2, 4*b + 3*t - 3\n",
    "\n",
    "print \"Total disks =\", L\n",
    "print \"Number of Blue disks, number of total disks =\", b, n"
   ]
  },
  {
   "cell_type": "code",
   "execution_count": null,
   "metadata": {
    "collapsed": true
   },
   "outputs": [],
   "source": []
  }
 ],
 "metadata": {
  "kernelspec": {
   "display_name": "Python 2",
   "language": "python",
   "name": "python2"
  },
  "language_info": {
   "codemirror_mode": {
    "name": "ipython",
    "version": 2
   },
   "file_extension": ".py",
   "mimetype": "text/x-python",
   "name": "python",
   "nbconvert_exporter": "python",
   "pygments_lexer": "ipython2",
   "version": "2.7.10"
  }
 },
 "nbformat": 4,
 "nbformat_minor": 2
}
