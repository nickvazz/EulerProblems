{
 "cells": [
  {
   "cell_type": "markdown",
   "metadata": {},
   "source": [
    "# #37 - Truncatable primes\n",
    "\n",
    "The number 3797 has an interesting property. Being prime itself, it is possible to continuously remove digits from left to right, and remain prime at each stage: 3797, 797, 97, and 7. Similarly we can work from right to left: 3797, 379, 37, and 3.\n",
    "\n",
    "Find the sum of the only eleven primes that are both truncatable from left to right and right to left.\n",
    "\n",
    "NOTE: 2, 3, 5, and 7 are not considered to be truncatable primes."
   ]
  },
  {
   "cell_type": "code",
   "execution_count": null,
   "metadata": {
    "collapsed": true
   },
   "outputs": [],
   "source": [
    "import import_ipynb\n",
    "# from EulerP_003 import Sie\n",
    "\n",
    "kept_primes = []\n",
    "\n",
    "for p in primes[:100]:\n",
    "    newP = p\n",
    "    keepL, keepR = False, False\n",
    "\n",
    "    # drop Left\n",
    "    while len(str(newP)) > 1:\n",
    "        newP = int(str(newP)[1:])\n",
    "        if newP in primes:\n",
    "            if len(str(newP)) == 1:\n",
    "                keepL == True\n",
    "        else:\n",
    "            break\n",
    "\n",
    "    # drop right\n",
    "    while len(str(newP)) > 1:\n",
    "        newP = int(str(newP)[:-1])\n",
    "        if newP in primes:\n",
    "            if len(str(newP)) == 1:\n",
    "                keepL == True\n",
    "        else:\n",
    "            break\n",
    "    if keepL == True and keepR == True:\n",
    "        kept_primes.append(p)\n",
    "            \n",
    "print kept_primes"
   ]
  }
 ],
 "metadata": {
  "kernelspec": {
   "display_name": "Python 2",
   "language": "python",
   "name": "python2"
  },
  "language_info": {
   "codemirror_mode": {
    "name": "ipython",
    "version": 2
   },
   "file_extension": ".py",
   "mimetype": "text/x-python",
   "name": "python",
   "nbconvert_exporter": "python",
   "pygments_lexer": "ipython2",
   "version": "2.7.10"
  }
 },
 "nbformat": 4,
 "nbformat_minor": 2
}
