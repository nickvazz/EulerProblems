{
 "cells": [
  {
   "cell_type": "code",
   "execution_count": 10,
   "metadata": {},
   "outputs": [
    {
     "name": "stdout",
     "output_type": "stream",
     "text": [
      "[]\n"
     ]
    }
   ],
   "source": [
    "def pentagonal(n):\n",
    "    return n*(3*n-1)/2\n",
    "\n",
    "pent_nums = map(pentagonal,range(1,1001))\n",
    "\n",
    "\n",
    "keepers = []\n",
    "for i in pent_nums:\n",
    "    for j in pent_nums:\n",
    "        if i + j in pent_nums:\n",
    "            if i-j in pent_nums:\n",
    "                keepers.append(abs(i-j))\n",
    "                \n",
    "print keepers"
   ]
  },
  {
   "cell_type": "code",
   "execution_count": null,
   "metadata": {
    "collapsed": true
   },
   "outputs": [],
   "source": []
  }
 ],
 "metadata": {
  "kernelspec": {
   "display_name": "Python 2",
   "language": "python",
   "name": "python2"
  },
  "language_info": {
   "codemirror_mode": {
    "name": "ipython",
    "version": 2
   },
   "file_extension": ".py",
   "mimetype": "text/x-python",
   "name": "python",
   "nbconvert_exporter": "python",
   "pygments_lexer": "ipython2",
   "version": "2.7.10"
  }
 },
 "nbformat": 4,
 "nbformat_minor": 2
}
